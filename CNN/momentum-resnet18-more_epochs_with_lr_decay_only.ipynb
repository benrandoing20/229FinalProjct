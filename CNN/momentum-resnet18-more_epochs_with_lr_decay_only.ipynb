{
 "cells": [
  {
   "cell_type": "markdown",
   "metadata": {},
   "source": [
    "# 2 Layer Neural Network"
   ]
  },
  {
   "cell_type": "markdown",
   "metadata": {},
   "source": [
    "## Imports"
   ]
  },
  {
   "cell_type": "code",
   "execution_count": 1,
   "metadata": {},
   "outputs": [],
   "source": [
    "import os\n",
    "import pandas as pd"
   ]
  },
  {
   "cell_type": "markdown",
   "metadata": {
    "pycharm": {
     "name": "#%% md\n"
    }
   },
   "source": [
    "## Import data and create .csv"
   ]
  },
  {
   "cell_type": "code",
   "execution_count": 2,
   "metadata": {
    "pycharm": {
     "name": "#%%\n"
    }
   },
   "outputs": [],
   "source": [
    "# Directory to MRI Images\n",
    "base_dir = '/Users/venkatasaikrishna.gudladona/src/machinelearning/229FinalProject/AugmentedAlzheimerDataset'\n",
    "classes = ['MildDemented', 'ModerateDemented', 'NonDemented', 'VeryMildDemented']\n",
    "\n",
    "if not os.path.exists('dataset.csv'):\n",
    "    data = []\n",
    "\n",
    "    for label, class_name in enumerate(classes):\n",
    "        class_dir = os.path.join(base_dir, class_name)\n",
    "        for image_name in os.listdir(class_dir):\n",
    "            image_path = os.path.join(class_dir, image_name)\n",
    "            data.append([image_path, label])\n",
    "\n",
    "    df = pd.DataFrame(data, columns=['path', 'label'])\n",
    "    df.to_csv('dataset.csv', index=False)"
   ]
  },
  {
   "cell_type": "markdown",
   "metadata": {
    "pycharm": {
     "name": "#%% md\n"
    }
   },
   "source": [
    "## Data Loading and Pre-Processing"
   ]
  },
  {
   "cell_type": "code",
   "execution_count": 3,
   "metadata": {
    "pycharm": {
     "is_executing": true,
     "name": "#%%\n"
    }
   },
   "outputs": [],
   "source": [
    "import torch\n",
    "import torchvision.transforms as transforms\n",
    "from torch.utils.data import DataLoader, Dataset, random_split\n",
    "from PIL import Image\n",
    "\n",
    "class CustomDataset(Dataset):\n",
    "    def __init__(self, csv_file, transform=None):\n",
    "        self.dataframe = pd.read_csv(csv_file)\n",
    "        self.dataframe = self.dataframe.sample(frac=1).reset_index(drop=True)  # Shuffle the dataframe\n",
    "        self.transform = transform\n",
    "\n",
    "    def __len__(self):\n",
    "        return len(self.dataframe)\n",
    "\n",
    "    def __getitem__(self, idx):\n",
    "        img_name = self.dataframe.iloc[idx, 0]\n",
    "        image = Image.open(img_name)\n",
    "        label = int(self.dataframe.iloc[idx, 1])\n",
    "\n",
    "        if self.transform:\n",
    "            image = self.transform(image)\n",
    "\n",
    "        return image, label\n",
    "\n",
    "transform = transforms.Compose([\n",
    "    transforms.Resize((224, 224)),  # Resize image to 224 X 224\n",
    "    transforms.ToTensor(),\n",
    "    transforms.Normalize(mean=[0.485, 0.456, 0.406], std=[0.229, 0.224, 0.225]),\n",
    "    #transforms.Lambda(lambda x: x.view(-1))  # Flatten the image\n",
    "])\n",
    "\n",
    "# Load the entire dataset\n",
    "dataset = CustomDataset(csv_file='dataset.csv', transform=transform)\n",
    "\n",
    "# Split the dataset into train, validation, and test sets\n",
    "train_size = int(0.7 * len(dataset))\n",
    "val_size = int(0.15 * len(dataset))\n",
    "test_size = len(dataset) - train_size - val_size\n",
    "train_dataset, val_dataset, test_dataset = random_split(dataset, [train_size, val_size, test_size])"
   ]
  },
  {
   "cell_type": "code",
   "execution_count": 4,
   "metadata": {},
   "outputs": [
    {
     "name": "stdout",
     "output_type": "stream",
     "text": [
      "Training Samples: 23788\n",
      "Validation Samples: 5097\n",
      "Test Samples: 5099\n"
     ]
    }
   ],
   "source": [
    "print(f'Training Samples: {len(train_dataset)}')\n",
    "print(f'Validation Samples: {len(val_dataset)}')\n",
    "print(f'Test Samples: {len(test_dataset)}')"
   ]
  },
  {
   "cell_type": "code",
   "execution_count": 5,
   "metadata": {},
   "outputs": [
    {
     "name": "stdout",
     "output_type": "stream",
     "text": [
      "<torch.utils.data.dataset.Subset object at 0x7fdc7b133640>\n"
     ]
    }
   ],
   "source": [
    "print(train_dataset)"
   ]
  },
  {
   "cell_type": "code",
   "execution_count": 6,
   "metadata": {},
   "outputs": [],
   "source": [
    "import matplotlib.pyplot as plt\n",
    "#plt.plot(train_dataset[0][0])\n",
    "#plt.show()"
   ]
  },
  {
   "cell_type": "markdown",
   "metadata": {
    "pycharm": {
     "name": "#%% md\n"
    }
   },
   "source": [
    "## Pytorch Logistic Regression Model"
   ]
  },
  {
   "cell_type": "code",
   "execution_count": 7,
   "metadata": {
    "pycharm": {
     "name": "#%%\n"
    }
   },
   "outputs": [],
   "source": [
    "class FiveLayerNN(torch.nn.Module):\n",
    "    def __init__(self, input_dim, hidden_dim1, hidden_dim2, hidden_dim3, hidden_dim4, output_dim):\n",
    "        super(FiveLayerNN, self).__init__()\n",
    "        self.fc1 = torch.nn.Linear(input_dim, hidden_dim1)\n",
    "        self.fc2 = torch.nn.Linear(hidden_dim1, hidden_dim2)\n",
    "        self.fc3 = torch.nn.Linear(hidden_dim2, hidden_dim3)\n",
    "        self.fc4 = torch.nn.Linear(hidden_dim3, hidden_dim4)\n",
    "        self.fc5 = torch.nn.Linear(hidden_dim4, output_dim)\n",
    "\n",
    "    def forward(self, x):\n",
    "        #x = x.view(-1, 224 * 224 * 3)\n",
    "        x = torch.relu(self.fc1(x))\n",
    "        x = torch.relu(self.fc2(x))\n",
    "        x = torch.relu(self.fc3(x))\n",
    "        x = torch.relu(self.fc4(x))\n",
    "        x = self.fc5(x)\n",
    "        return x\n",
    "\n",
    "input_dim = 224 * 224 * 3  # Assuming the images are RGB\n",
    "hidden_dim1 = 512\n",
    "hidden_dim2 = 256\n",
    "hidden_dim3 = 128\n",
    "hidden_dim4 = 64\n",
    "output_dim = 4  # Four classes\n",
    "\n",
    "#model = FiveLayerNN(input_dim, hidden_dim1, hidden_dim2, hidden_dim3, hidden_dim4, output_dim)\n",
    "import torchvision\n",
    "from torchvision.models import resnet18, ResNet18_Weights\n",
    "model = torchvision.models.resnet18(weights=ResNet18_Weights.DEFAULT)\n",
    "device = torch.device(\"cuda:0\" if torch.cuda.is_available() else \"cpu\")\n",
    "model.to(device)\n",
    "\n",
    "model.fc = torch.nn.Linear(model.fc.in_features, output_dim)\n"
   ]
  },
  {
   "cell_type": "markdown",
   "metadata": {
    "pycharm": {
     "name": "#%% md\n"
    }
   },
   "source": [
    "## Training Loop"
   ]
  },
  {
   "cell_type": "code",
   "execution_count": null,
   "metadata": {},
   "outputs": [
    {
     "name": "stdout",
     "output_type": "stream",
     "text": [
      "current lr= 0.01\n",
      "Training continues.. 0.0 current i =  1\n",
      "Training continues.. 1.688086986541748 current i =  2\n",
      "Training continues.. 3.0798397064208984 current i =  3\n",
      "Training continues.. 4.566572666168213 current i =  4\n",
      "Training continues.. 6.050649404525757 current i =  5\n",
      "Training continues.. 7.436370372772217 current i =  6\n",
      "Training continues.. 8.991209149360657 current i =  7\n",
      "Training continues.. 10.421815156936646 current i =  8\n",
      "Training continues.. 11.594358801841736 current i =  9\n",
      "Training continues.. 12.975406646728516 current i =  10\n",
      "Training continues.. 13.983259201049805 current i =  11\n",
      "Training continues.. 15.093053460121155 current i =  12\n",
      "Training continues.. 16.225859880447388 current i =  13\n",
      "Training continues.. 17.239086389541626 current i =  14\n",
      "Training continues.. 18.177795588970184 current i =  15\n",
      "Training continues.. 19.076567769050598 current i =  16\n",
      "Training continues.. 20.00807797908783 current i =  17\n",
      "Training continues.. 21.08658742904663 current i =  18\n",
      "Training continues.. 22.087114930152893 current i =  19\n",
      "Training continues.. 23.137314677238464 current i =  20\n",
      "Training continues.. 24.01107007265091 current i =  21\n",
      "Training continues.. 24.755442082881927 current i =  22\n",
      "Training continues.. 25.525852859020233 current i =  23\n",
      "Training continues.. 26.80614858865738 current i =  24\n",
      "Training continues.. 27.898220002651215 current i =  25\n",
      "Training continues.. 28.835294604301453 current i =  26\n",
      "Training continues.. 30.13198745250702 current i =  27\n",
      "Training continues.. 30.92536550760269 current i =  28\n",
      "Training continues.. 31.75767159461975 current i =  29\n",
      "Training continues.. 33.045191049575806 current i =  30\n",
      "Training continues.. 34.086379647254944 current i =  31\n",
      "Training continues.. 34.860013246536255 current i =  32\n",
      "Training continues.. 35.57707118988037 current i =  33\n",
      "Training continues.. 36.578999638557434 current i =  34\n",
      "Training continues.. 37.5552414059639 current i =  35\n",
      "Training continues.. 38.442795395851135 current i =  36\n",
      "Training continues.. 39.397267520427704 current i =  37\n",
      "Training continues.. 40.12472540140152 current i =  38\n",
      "Training continues.. 40.9981889128685 current i =  39\n",
      "Training continues.. 41.86755156517029 current i =  40\n",
      "Training continues.. 42.47291350364685 current i =  41\n",
      "Training continues.. 43.13787633180618 current i =  42\n",
      "Training continues.. 43.83407402038574 current i =  43\n",
      "Training continues.. 44.77680069208145 current i =  44\n",
      "Training continues.. 45.524588227272034 current i =  45\n",
      "Training continues.. 46.05130845308304 current i =  46\n",
      "Training continues.. 46.83303660154343 current i =  47\n",
      "Training continues.. 47.68824744224548 current i =  48\n",
      "Training continues.. 48.239065289497375 current i =  49\n",
      "Training continues.. 48.75841176509857 current i =  50\n",
      "Training continues.. 49.400644063949585 current i =  51\n"
     ]
    }
   ],
   "source": [
    "learning_rate = 0.01\n",
    "num_epochs = 20\n",
    "batch_size = 64\n",
    "\n",
    "train_loader = DataLoader(train_dataset, batch_size=batch_size, shuffle=True)\n",
    "val_loader = DataLoader(val_dataset, batch_size=batch_size, shuffle=False)\n",
    "test_loader = DataLoader(test_dataset, batch_size=batch_size, shuffle=False)\n",
    "\n",
    "# Define the loss function and optimizer\n",
    "criterion = torch.nn.CrossEntropyLoss()\n",
    "#optimizer = torch.optim.RMSProp(model.parameters(), lr=learning_rate)\n",
    "\n",
    "optimizer = torch.optim.SGD(model.parameters(), lr=learning_rate, momentum=0.9)\n",
    "lr_scheduler = torch.optim.lr_scheduler.StepLR(optimizer, step_size=5, gamma=0.1)\n",
    "print('current lr=', optimizer.param_groups[0]['lr'])\n",
    "\n",
    "# Initialize lists to store metrics\n",
    "train_losses = []\n",
    "val_losses = []\n",
    "train_accuracies = []\n",
    "val_accuracies = []\n",
    "\n",
    "# Training loop\n",
    "for epoch in range(num_epochs):\n",
    "    model.train()\n",
    "    total_train_loss = 0.0\n",
    "    correct_train = 0\n",
    "    total_train = 0\n",
    "\n",
    "    i = 0\n",
    "    for inputs, labels in train_loader:\n",
    "        i = i + 1\n",
    "        print(\"Training continues..\", total_train_loss, \"current i = \", i)    \n",
    "        optimizer.zero_grad()\n",
    "        inputs, labels = inputs.to(device), labels.to(device)\n",
    "        outputs = model(inputs)\n",
    "        loss = criterion(outputs, labels)        \n",
    "        loss.backward()\n",
    "        optimizer.step()\n",
    "        total_train_loss += loss.item()\n",
    "        \n",
    "        # Calculate training accuracy\n",
    "        _, predicted = torch.max(outputs.data, 1)\n",
    "        total_train += labels.size(0)\n",
    "        correct_train += (predicted == labels).sum().item()\n",
    "\n",
    "    avg_train_loss = total_train_loss / len(train_loader)\n",
    "    train_accuracy = 100 * correct_train / total_train\n",
    "    train_losses.append(avg_train_loss)\n",
    "    train_accuracies.append(train_accuracy)\n",
    "\n",
    "    # Validation phase\n",
    "    model.eval()\n",
    "    total_val_loss = 0.0\n",
    "    correct_val = 0\n",
    "    total_val = 0\n",
    "    with torch.no_grad():\n",
    "        print(\"Computing validation accuaracy\")\n",
    "        for inputs, labels in val_loader:\n",
    "            inputs, labels = inputs.to(device), labels.to(device)\n",
    "            outputs = model(inputs)\n",
    "            loss = criterion(outputs, labels)\n",
    "            total_val_loss += loss.item()\n",
    "\n",
    "            # Calculate validation accuracy\n",
    "            _, predicted = torch.max(outputs.data, 1)\n",
    "            total_val += labels.size(0)\n",
    "            correct_val += (predicted == labels).sum().item()\n",
    "\n",
    "    avg_val_loss = total_val_loss / len(val_loader)\n",
    "    val_accuracy = 100 * correct_val / total_val\n",
    "    val_losses.append(avg_val_loss)\n",
    "    val_accuracies.append(val_accuracy)\n",
    "\n",
    "    #lr decay\n",
    "    lr_scheduler.step()\n",
    "\n",
    "    print(f\"Epoch {epoch}: Train Loss: {avg_train_loss}, Train Accuracy: {train_accuracy}%, Val Loss: {avg_val_loss}, Val Accuracy: {val_accuracy}%\")\n",
    "    print(f\"Iteration {epoch} lr = {optimizer.param_groups[0]['lr']} - Loss = {total_loss / len(train_loader)}\")"
   ]
  },
  {
   "cell_type": "markdown",
   "metadata": {
    "pycharm": {
     "name": "#%% md\n"
    }
   },
   "source": [
    "## Evaluation"
   ]
  },
  {
   "cell_type": "code",
   "execution_count": null,
   "metadata": {},
   "outputs": [],
   "source": [
    "# Validation loop\n",
    "model.eval()\n",
    "correct = 0\n",
    "total = 0\n",
    "\n",
    "with torch.no_grad():\n",
    "    for inputs, labels in val_loader:\n",
    "        outputs = model(inputs)\n",
    "        _, predicted = torch.max(outputs.data, 1)\n",
    "        total += labels.size(0)\n",
    "        correct += (predicted == labels).sum().item()\n",
    "\n",
    "validation_accuracy = 100 * correct / total\n",
    "print(f\"Validation Accuracy: {validation_accuracy}%\")"
   ]
  },
  {
   "cell_type": "code",
   "execution_count": null,
   "metadata": {},
   "outputs": [],
   "source": [
    "# Testing loop\n",
    "model.eval()\n",
    "correct = 0\n",
    "total = 0\n",
    "\n",
    "with torch.no_grad():\n",
    "    for inputs, labels in test_loader:\n",
    "        outputs = model(inputs)\n",
    "        _, predicted = torch.max(outputs.data, 1)\n",
    "        total += labels.size(0)\n",
    "        correct += (predicted == labels).sum().item()\n",
    "\n",
    "test_accuracy = 100 * correct / total\n",
    "print(f\"Test Accuracy: {test_accuracy}%\")"
   ]
  },
  {
   "cell_type": "code",
   "execution_count": null,
   "metadata": {},
   "outputs": [],
   "source": [
    "import torch\n",
    "torch.save(model.state_dict(), 'resnet18_more_epochs_lr_decay_model_weights.pth')"
   ]
  },
  {
   "cell_type": "code",
   "execution_count": null,
   "metadata": {},
   "outputs": [],
   "source": [
    "# Plotting\n",
    "plt.figure(figsize=(12, 5))\n",
    "plt.subplot(1, 2, 1)\n",
    "plt.plot(train_losses, label='Train Loss')\n",
    "plt.plot(val_losses, label='Validation Loss')\n",
    "plt.title('Training and Validation Loss')\n",
    "plt.xlabel('Epochs')\n",
    "plt.ylabel('Loss')\n",
    "plt.legend()\n",
    "\n",
    "plt.subplot(1, 2, 2)\n",
    "plt.plot(train_accuracies, label='Train Accuracy')\n",
    "plt.plot(val_accuracies, label='Validation Accuracy')\n",
    "plt.title('Training and Validation Accuracy')\n",
    "plt.xlabel('Epochs')\n",
    "plt.ylabel('Accuracy')\n",
    "plt.legend()\n",
    "plt.savefig('GAN_plot.png')\n",
    "\n",
    "plt.show()"
   ]
  }
 ],
 "metadata": {
  "kernelspec": {
   "display_name": "Python 3 (ipykernel)",
   "language": "python",
   "name": "python3"
  },
  "language_info": {
   "codemirror_mode": {
    "name": "ipython",
    "version": 3
   },
   "file_extension": ".py",
   "mimetype": "text/x-python",
   "name": "python",
   "nbconvert_exporter": "python",
   "pygments_lexer": "ipython3",
   "version": "3.9.18"
  }
 },
 "nbformat": 4,
 "nbformat_minor": 1
}
